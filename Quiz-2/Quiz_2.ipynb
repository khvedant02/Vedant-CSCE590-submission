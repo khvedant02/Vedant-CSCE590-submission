{
  "nbformat": 4,
  "nbformat_minor": 0,
  "metadata": {
    "colab": {
      "name": "Quiz-2.ipynb",
      "provenance": [],
      "collapsed_sections": []
    },
    "kernelspec": {
      "name": "python3",
      "display_name": "Python 3"
    }
  },
  "cells": [
    {
      "cell_type": "markdown",
      "metadata": {
        "id": "VkafuUBAUvZ9"
      },
      "source": [
        "Question 01: (a) Download the data and pre-process in any way necessary. How many data items and features does it have? What are their types?"
      ]
    },
    {
      "cell_type": "code",
      "metadata": {
        "id": "m3NZVnNVn9xo"
      },
      "source": [
        "import pandas as pd #loading the dataset into pandas data frame\n",
        "df = pd.read_csv(\"dataset_31_credit-g.csv\")"
      ],
      "execution_count": 1,
      "outputs": []
    },
    {
      "cell_type": "code",
      "metadata": {
        "colab": {
          "base_uri": "https://localhost:8080/"
        },
        "id": "xnWu0qI4q1_O",
        "outputId": "13ea7255-5cbe-4903-b5b9-df319ce941ce"
      },
      "source": [
        "#list of all the columns in the dataframe\n",
        "df.columns"
      ],
      "execution_count": 2,
      "outputs": [
        {
          "output_type": "execute_result",
          "data": {
            "text/plain": [
              "Index(['checking_status', 'duration', 'credit_history', 'purpose',\n",
              "       'credit_amount', 'savings_status', 'employment',\n",
              "       'installment_commitment', 'personal_status', 'other_parties',\n",
              "       'residence_since', 'property_magnitude', 'age', 'other_payment_plans',\n",
              "       'housing', 'existing_credits', 'job', 'num_dependents', 'own_telephone',\n",
              "       'foreign_worker', 'class'],\n",
              "      dtype='object')"
            ]
          },
          "metadata": {
            "tags": []
          },
          "execution_count": 2
        }
      ]
    },
    {
      "cell_type": "code",
      "metadata": {
        "colab": {
          "base_uri": "https://localhost:8080/",
          "height": 275
        },
        "id": "QhC6ovmdq3dC",
        "outputId": "7b5a57e0-bee1-4703-a6a3-89fa1872725b"
      },
      "source": [
        "#priting top 5 rows of the dataframe\n",
        "df.head()"
      ],
      "execution_count": 3,
      "outputs": [
        {
          "output_type": "execute_result",
          "data": {
            "text/html": [
              "<div>\n",
              "<style scoped>\n",
              "    .dataframe tbody tr th:only-of-type {\n",
              "        vertical-align: middle;\n",
              "    }\n",
              "\n",
              "    .dataframe tbody tr th {\n",
              "        vertical-align: top;\n",
              "    }\n",
              "\n",
              "    .dataframe thead th {\n",
              "        text-align: right;\n",
              "    }\n",
              "</style>\n",
              "<table border=\"1\" class=\"dataframe\">\n",
              "  <thead>\n",
              "    <tr style=\"text-align: right;\">\n",
              "      <th></th>\n",
              "      <th>checking_status</th>\n",
              "      <th>duration</th>\n",
              "      <th>credit_history</th>\n",
              "      <th>purpose</th>\n",
              "      <th>credit_amount</th>\n",
              "      <th>savings_status</th>\n",
              "      <th>employment</th>\n",
              "      <th>installment_commitment</th>\n",
              "      <th>personal_status</th>\n",
              "      <th>other_parties</th>\n",
              "      <th>residence_since</th>\n",
              "      <th>property_magnitude</th>\n",
              "      <th>age</th>\n",
              "      <th>other_payment_plans</th>\n",
              "      <th>housing</th>\n",
              "      <th>existing_credits</th>\n",
              "      <th>job</th>\n",
              "      <th>num_dependents</th>\n",
              "      <th>own_telephone</th>\n",
              "      <th>foreign_worker</th>\n",
              "      <th>class</th>\n",
              "    </tr>\n",
              "  </thead>\n",
              "  <tbody>\n",
              "    <tr>\n",
              "      <th>0</th>\n",
              "      <td>'&lt;0'</td>\n",
              "      <td>6</td>\n",
              "      <td>'critical/other existing credit'</td>\n",
              "      <td>radio/tv</td>\n",
              "      <td>1169</td>\n",
              "      <td>'no known savings'</td>\n",
              "      <td>'&gt;=7'</td>\n",
              "      <td>4</td>\n",
              "      <td>'male single'</td>\n",
              "      <td>none</td>\n",
              "      <td>4</td>\n",
              "      <td>'real estate'</td>\n",
              "      <td>67</td>\n",
              "      <td>none</td>\n",
              "      <td>own</td>\n",
              "      <td>2</td>\n",
              "      <td>skilled</td>\n",
              "      <td>1</td>\n",
              "      <td>yes</td>\n",
              "      <td>yes</td>\n",
              "      <td>good</td>\n",
              "    </tr>\n",
              "    <tr>\n",
              "      <th>1</th>\n",
              "      <td>'0&lt;=X&lt;200'</td>\n",
              "      <td>48</td>\n",
              "      <td>'existing paid'</td>\n",
              "      <td>radio/tv</td>\n",
              "      <td>5951</td>\n",
              "      <td>'&lt;100'</td>\n",
              "      <td>'1&lt;=X&lt;4'</td>\n",
              "      <td>2</td>\n",
              "      <td>'female div/dep/mar'</td>\n",
              "      <td>none</td>\n",
              "      <td>2</td>\n",
              "      <td>'real estate'</td>\n",
              "      <td>22</td>\n",
              "      <td>none</td>\n",
              "      <td>own</td>\n",
              "      <td>1</td>\n",
              "      <td>skilled</td>\n",
              "      <td>1</td>\n",
              "      <td>none</td>\n",
              "      <td>yes</td>\n",
              "      <td>bad</td>\n",
              "    </tr>\n",
              "    <tr>\n",
              "      <th>2</th>\n",
              "      <td>'no checking'</td>\n",
              "      <td>12</td>\n",
              "      <td>'critical/other existing credit'</td>\n",
              "      <td>education</td>\n",
              "      <td>2096</td>\n",
              "      <td>'&lt;100'</td>\n",
              "      <td>'4&lt;=X&lt;7'</td>\n",
              "      <td>2</td>\n",
              "      <td>'male single'</td>\n",
              "      <td>none</td>\n",
              "      <td>3</td>\n",
              "      <td>'real estate'</td>\n",
              "      <td>49</td>\n",
              "      <td>none</td>\n",
              "      <td>own</td>\n",
              "      <td>1</td>\n",
              "      <td>'unskilled resident'</td>\n",
              "      <td>2</td>\n",
              "      <td>none</td>\n",
              "      <td>yes</td>\n",
              "      <td>good</td>\n",
              "    </tr>\n",
              "    <tr>\n",
              "      <th>3</th>\n",
              "      <td>'&lt;0'</td>\n",
              "      <td>42</td>\n",
              "      <td>'existing paid'</td>\n",
              "      <td>furniture/equipment</td>\n",
              "      <td>7882</td>\n",
              "      <td>'&lt;100'</td>\n",
              "      <td>'4&lt;=X&lt;7'</td>\n",
              "      <td>2</td>\n",
              "      <td>'male single'</td>\n",
              "      <td>guarantor</td>\n",
              "      <td>4</td>\n",
              "      <td>'life insurance'</td>\n",
              "      <td>45</td>\n",
              "      <td>none</td>\n",
              "      <td>'for free'</td>\n",
              "      <td>1</td>\n",
              "      <td>skilled</td>\n",
              "      <td>2</td>\n",
              "      <td>none</td>\n",
              "      <td>yes</td>\n",
              "      <td>good</td>\n",
              "    </tr>\n",
              "    <tr>\n",
              "      <th>4</th>\n",
              "      <td>'&lt;0'</td>\n",
              "      <td>24</td>\n",
              "      <td>'delayed previously'</td>\n",
              "      <td>'new car'</td>\n",
              "      <td>4870</td>\n",
              "      <td>'&lt;100'</td>\n",
              "      <td>'1&lt;=X&lt;4'</td>\n",
              "      <td>3</td>\n",
              "      <td>'male single'</td>\n",
              "      <td>none</td>\n",
              "      <td>4</td>\n",
              "      <td>'no known property'</td>\n",
              "      <td>53</td>\n",
              "      <td>none</td>\n",
              "      <td>'for free'</td>\n",
              "      <td>2</td>\n",
              "      <td>skilled</td>\n",
              "      <td>2</td>\n",
              "      <td>none</td>\n",
              "      <td>yes</td>\n",
              "      <td>bad</td>\n",
              "    </tr>\n",
              "  </tbody>\n",
              "</table>\n",
              "</div>"
            ],
            "text/plain": [
              "  checking_status  duration  ... foreign_worker class\n",
              "0            '<0'         6  ...            yes  good\n",
              "1      '0<=X<200'        48  ...            yes   bad\n",
              "2   'no checking'        12  ...            yes  good\n",
              "3            '<0'        42  ...            yes  good\n",
              "4            '<0'        24  ...            yes   bad\n",
              "\n",
              "[5 rows x 21 columns]"
            ]
          },
          "metadata": {
            "tags": []
          },
          "execution_count": 3
        }
      ]
    },
    {
      "cell_type": "code",
      "metadata": {
        "colab": {
          "base_uri": "https://localhost:8080/"
        },
        "id": "zysnrkX1rJlK",
        "outputId": "9732a6fa-86a6-42ce-ef6f-e147356c755d"
      },
      "source": [
        "#checking the presence of missing or null values (count)\n",
        "df.isna().sum() #missing or null values"
      ],
      "execution_count": 8,
      "outputs": [
        {
          "output_type": "execute_result",
          "data": {
            "text/plain": [
              "checking_status           0\n",
              "duration                  0\n",
              "credit_history            0\n",
              "purpose                   0\n",
              "credit_amount             0\n",
              "savings_status            0\n",
              "employment                0\n",
              "installment_commitment    0\n",
              "personal_status           0\n",
              "other_parties             0\n",
              "residence_since           0\n",
              "property_magnitude        0\n",
              "age                       0\n",
              "other_payment_plans       0\n",
              "housing                   0\n",
              "existing_credits          0\n",
              "job                       0\n",
              "num_dependents            0\n",
              "own_telephone             0\n",
              "foreign_worker            0\n",
              "class                     0\n",
              "dtype: int64"
            ]
          },
          "metadata": {
            "tags": []
          },
          "execution_count": 8
        }
      ]
    },
    {
      "cell_type": "code",
      "metadata": {
        "colab": {
          "base_uri": "https://localhost:8080/"
        },
        "id": "alCisnpvsLCi",
        "outputId": "838ea230-7ce1-4c4d-8b44-ffe9f6612f4d"
      },
      "source": [
        "#checking the presence of missing or null values (boolean)\n",
        "df.isna().any() #boolean values for any missing or null value (True) or not (False)"
      ],
      "execution_count": 9,
      "outputs": [
        {
          "output_type": "execute_result",
          "data": {
            "text/plain": [
              "checking_status           False\n",
              "duration                  False\n",
              "credit_history            False\n",
              "purpose                   False\n",
              "credit_amount             False\n",
              "savings_status            False\n",
              "employment                False\n",
              "installment_commitment    False\n",
              "personal_status           False\n",
              "other_parties             False\n",
              "residence_since           False\n",
              "property_magnitude        False\n",
              "age                       False\n",
              "other_payment_plans       False\n",
              "housing                   False\n",
              "existing_credits          False\n",
              "job                       False\n",
              "num_dependents            False\n",
              "own_telephone             False\n",
              "foreign_worker            False\n",
              "class                     False\n",
              "dtype: bool"
            ]
          },
          "metadata": {
            "tags": []
          },
          "execution_count": 9
        }
      ]
    },
    {
      "cell_type": "code",
      "metadata": {
        "colab": {
          "base_uri": "https://localhost:8080/"
        },
        "id": "LlKRoLpBsxhf",
        "outputId": "9588b8a7-6b1e-4c9a-d75a-c3a3d0e6f00a"
      },
      "source": [
        "#prints all the columns with category type data\n",
        "df.select_dtypes(include=['category', object]).columns"
      ],
      "execution_count": 11,
      "outputs": [
        {
          "output_type": "execute_result",
          "data": {
            "text/plain": [
              "Index(['checking_status', 'credit_history', 'purpose', 'savings_status',\n",
              "       'employment', 'personal_status', 'other_parties', 'property_magnitude',\n",
              "       'other_payment_plans', 'housing', 'job', 'own_telephone',\n",
              "       'foreign_worker', 'class'],\n",
              "      dtype='object')"
            ]
          },
          "metadata": {
            "tags": []
          },
          "execution_count": 11
        }
      ]
    },
    {
      "cell_type": "code",
      "metadata": {
        "colab": {
          "base_uri": "https://localhost:8080/",
          "height": 317
        },
        "id": "8dpGiZYzq6OO",
        "outputId": "3ac73645-09d0-4d14-d8f0-538853098da3"
      },
      "source": [
        "#Descriptive statistics include those that summarize the central tendency, \n",
        "#dispersion and shape of a dataset’s distribution, excluding NaN values.\n",
        "df.describe()"
      ],
      "execution_count": 7,
      "outputs": [
        {
          "output_type": "execute_result",
          "data": {
            "text/html": [
              "<div>\n",
              "<style scoped>\n",
              "    .dataframe tbody tr th:only-of-type {\n",
              "        vertical-align: middle;\n",
              "    }\n",
              "\n",
              "    .dataframe tbody tr th {\n",
              "        vertical-align: top;\n",
              "    }\n",
              "\n",
              "    .dataframe thead th {\n",
              "        text-align: right;\n",
              "    }\n",
              "</style>\n",
              "<table border=\"1\" class=\"dataframe\">\n",
              "  <thead>\n",
              "    <tr style=\"text-align: right;\">\n",
              "      <th></th>\n",
              "      <th>duration</th>\n",
              "      <th>credit_amount</th>\n",
              "      <th>installment_commitment</th>\n",
              "      <th>residence_since</th>\n",
              "      <th>age</th>\n",
              "      <th>existing_credits</th>\n",
              "      <th>num_dependents</th>\n",
              "    </tr>\n",
              "  </thead>\n",
              "  <tbody>\n",
              "    <tr>\n",
              "      <th>count</th>\n",
              "      <td>1000.000000</td>\n",
              "      <td>1000.000000</td>\n",
              "      <td>1000.000000</td>\n",
              "      <td>1000.000000</td>\n",
              "      <td>1000.000000</td>\n",
              "      <td>1000.000000</td>\n",
              "      <td>1000.000000</td>\n",
              "    </tr>\n",
              "    <tr>\n",
              "      <th>mean</th>\n",
              "      <td>20.903000</td>\n",
              "      <td>3271.258000</td>\n",
              "      <td>2.973000</td>\n",
              "      <td>2.845000</td>\n",
              "      <td>35.546000</td>\n",
              "      <td>1.407000</td>\n",
              "      <td>1.155000</td>\n",
              "    </tr>\n",
              "    <tr>\n",
              "      <th>std</th>\n",
              "      <td>12.058814</td>\n",
              "      <td>2822.736876</td>\n",
              "      <td>1.118715</td>\n",
              "      <td>1.103718</td>\n",
              "      <td>11.375469</td>\n",
              "      <td>0.577654</td>\n",
              "      <td>0.362086</td>\n",
              "    </tr>\n",
              "    <tr>\n",
              "      <th>min</th>\n",
              "      <td>4.000000</td>\n",
              "      <td>250.000000</td>\n",
              "      <td>1.000000</td>\n",
              "      <td>1.000000</td>\n",
              "      <td>19.000000</td>\n",
              "      <td>1.000000</td>\n",
              "      <td>1.000000</td>\n",
              "    </tr>\n",
              "    <tr>\n",
              "      <th>25%</th>\n",
              "      <td>12.000000</td>\n",
              "      <td>1365.500000</td>\n",
              "      <td>2.000000</td>\n",
              "      <td>2.000000</td>\n",
              "      <td>27.000000</td>\n",
              "      <td>1.000000</td>\n",
              "      <td>1.000000</td>\n",
              "    </tr>\n",
              "    <tr>\n",
              "      <th>50%</th>\n",
              "      <td>18.000000</td>\n",
              "      <td>2319.500000</td>\n",
              "      <td>3.000000</td>\n",
              "      <td>3.000000</td>\n",
              "      <td>33.000000</td>\n",
              "      <td>1.000000</td>\n",
              "      <td>1.000000</td>\n",
              "    </tr>\n",
              "    <tr>\n",
              "      <th>75%</th>\n",
              "      <td>24.000000</td>\n",
              "      <td>3972.250000</td>\n",
              "      <td>4.000000</td>\n",
              "      <td>4.000000</td>\n",
              "      <td>42.000000</td>\n",
              "      <td>2.000000</td>\n",
              "      <td>1.000000</td>\n",
              "    </tr>\n",
              "    <tr>\n",
              "      <th>max</th>\n",
              "      <td>72.000000</td>\n",
              "      <td>18424.000000</td>\n",
              "      <td>4.000000</td>\n",
              "      <td>4.000000</td>\n",
              "      <td>75.000000</td>\n",
              "      <td>4.000000</td>\n",
              "      <td>2.000000</td>\n",
              "    </tr>\n",
              "  </tbody>\n",
              "</table>\n",
              "</div>"
            ],
            "text/plain": [
              "          duration  credit_amount  ...  existing_credits  num_dependents\n",
              "count  1000.000000    1000.000000  ...       1000.000000     1000.000000\n",
              "mean     20.903000    3271.258000  ...          1.407000        1.155000\n",
              "std      12.058814    2822.736876  ...          0.577654        0.362086\n",
              "min       4.000000     250.000000  ...          1.000000        1.000000\n",
              "25%      12.000000    1365.500000  ...          1.000000        1.000000\n",
              "50%      18.000000    2319.500000  ...          1.000000        1.000000\n",
              "75%      24.000000    3972.250000  ...          2.000000        1.000000\n",
              "max      72.000000   18424.000000  ...          4.000000        2.000000\n",
              "\n",
              "[8 rows x 7 columns]"
            ]
          },
          "metadata": {
            "tags": []
          },
          "execution_count": 7
        }
      ]
    },
    {
      "cell_type": "code",
      "metadata": {
        "colab": {
          "base_uri": "https://localhost:8080/"
        },
        "id": "TxTIKKRgupjB",
        "outputId": "c671875c-03fc-4d2d-e675-37d2f0d27451"
      },
      "source": [
        "#printing total number of unique values. For columns installment_commitment, residence_since, existing_credits and \n",
        "#num_dependencies, as the number of unique value is just 4 or less than 4. These columns will also be considered as columns\n",
        "#with categorical data type. \n",
        "print(\"Total number of unique values in each of the columns other than categorical data columns obtained aboveare: \\n duration \", len(df.duration.value_counts()))\n",
        "print(\"\\n credit_amount \", len(df.credit_amount.value_counts()))\n",
        "print(\"\\n installment_commitment \", len(df.installment_commitment.value_counts()))\n",
        "print(\"\\n residence_since \", len(df.residence_since.value_counts()))\n",
        "print(\"\\n age \", len(df.age.value_counts()))\n",
        "print(\"\\n existing_credits \", len(df.existing_credits.value_counts()))\n",
        "print(\"\\n num_dependents \" ,len(df.num_dependents.value_counts()))"
      ],
      "execution_count": 28,
      "outputs": [
        {
          "output_type": "stream",
          "text": [
            "Total number of unique values in each of the columns other than categorical data columns obtained aboveare: \n",
            " duration  33\n",
            "\n",
            " credit_amount  921\n",
            "\n",
            " installment_commitment  4\n",
            "\n",
            " residence_since  4\n",
            "\n",
            " age  53\n",
            "\n",
            " existing_credits  4\n",
            "\n",
            " num_dependents  2\n"
          ],
          "name": "stdout"
        }
      ]
    },
    {
      "cell_type": "markdown",
      "metadata": {
        "id": "8R5SrUQOtoK8"
      },
      "source": [
        "Based on the above three cells, we can obtain that the columns with categorical columns are:\n",
        "checking_status, credit_history, purpose, saving_status, employment, personal_status, other_parties, property_magnitude, other_payment_plans, housing, job, own_telephone, foreign_worker, class\n",
        "\n",
        "Along with the above data, based on the distribution of data under the rest of the columns, some more categorical columns are identified,\n",
        "installment_commitment, residence_since, existing_credits, num_dependents.\n",
        "\n",
        "The conitnuous columns are:\n",
        "duration,\n",
        "credit_amount ,\n",
        "age\n"
      ]
    },
    {
      "cell_type": "code",
      "metadata": {
        "colab": {
          "base_uri": "https://localhost:8080/"
        },
        "id": "uyTbzp_xs9sM",
        "outputId": "dbb047ef-0e14-44b6-add9-8150e4c39920"
      },
      "source": [
        "#data types of each column\n",
        "df.dtypes"
      ],
      "execution_count": 33,
      "outputs": [
        {
          "output_type": "execute_result",
          "data": {
            "text/plain": [
              "checking_status           object\n",
              "duration                   int64\n",
              "credit_history            object\n",
              "purpose                   object\n",
              "credit_amount              int64\n",
              "savings_status            object\n",
              "employment                object\n",
              "installment_commitment     int64\n",
              "personal_status           object\n",
              "other_parties             object\n",
              "residence_since            int64\n",
              "property_magnitude        object\n",
              "age                        int64\n",
              "other_payment_plans       object\n",
              "housing                   object\n",
              "existing_credits           int64\n",
              "job                       object\n",
              "num_dependents             int64\n",
              "own_telephone             object\n",
              "foreign_worker            object\n",
              "class                     object\n",
              "dtype: object"
            ]
          },
          "metadata": {
            "tags": []
          },
          "execution_count": 33
        }
      ]
    },
    {
      "cell_type": "code",
      "metadata": {
        "colab": {
          "base_uri": "https://localhost:8080/"
        },
        "id": "1dRRKycgtCn3",
        "outputId": "4e5a0798-1e56-4a7f-b5dd-12bcf3333aba"
      },
      "source": [
        "#number of rows and number of columns present in the dataframe\n",
        "print(\"Number of rows: \", len(df.axes[0]))\n",
        "print(\"Number of columns: \", len(df.axes[1]))"
      ],
      "execution_count": 35,
      "outputs": [
        {
          "output_type": "stream",
          "text": [
            "Number of rows:  1000\n",
            "Number of columns:  21\n"
          ],
          "name": "stdout"
        }
      ]
    },
    {
      "cell_type": "code",
      "metadata": {
        "colab": {
          "base_uri": "https://localhost:8080/"
        },
        "id": "QkzcCUCK1PgX",
        "outputId": "7664822c-1da5-40cc-c141-d791328d95da"
      },
      "source": [
        "#number of data items and number of features to predict the columns class, present in the data frame. \n",
        "print(\"Number of data items: \", len(df.axes[0]))\n",
        "print(\"Number of features: \", len(df.axes[1])-1)"
      ],
      "execution_count": 36,
      "outputs": [
        {
          "output_type": "stream",
          "text": [
            "Number of data items:  1000\n",
            "Number of features:  20\n"
          ],
          "name": "stdout"
        }
      ]
    },
    {
      "cell_type": "markdown",
      "metadata": {
        "id": "Zh_3Rxt1Wc0g"
      },
      "source": [
        "1(b) Perform classification on the class label with at least two methods.\n",
        "Present model accuracy, recall and F1 statistics. If possible, print model structure."
      ]
    },
    {
      "cell_type": "code",
      "metadata": {
        "id": "Bub6Jd9h1m16"
      },
      "source": [
        "#One hot Encoding the categorical data columns and storing it into new_df (different dataframe variable)\n",
        "new_df = pd.get_dummies(df, columns=['checking_status', 'credit_history', 'purpose', 'savings_status',\n",
        "       'employment', 'personal_status', 'other_parties', 'property_magnitude',\n",
        "       'other_payment_plans', 'housing', 'job', 'own_telephone',\n",
        "       'foreign_worker'], prefix=['checking_status', 'credit_history', 'purpose', 'savings_status',\n",
        "       'employment', 'personal_status', 'other_parties', 'property_magnitude',\n",
        "       'other_payment_plans', 'housing', 'job', 'own_telephone',\n",
        "       'foreign_worker'])"
      ],
      "execution_count": 43,
      "outputs": []
    },
    {
      "cell_type": "code",
      "metadata": {
        "colab": {
          "base_uri": "https://localhost:8080/",
          "height": 258
        },
        "id": "Nf9cnxYQ4jdv",
        "outputId": "38511720-fd1b-4130-9dfe-d9d4ff017407"
      },
      "source": [
        "new_df.head()"
      ],
      "execution_count": 44,
      "outputs": [
        {
          "output_type": "execute_result",
          "data": {
            "text/html": [
              "<div>\n",
              "<style scoped>\n",
              "    .dataframe tbody tr th:only-of-type {\n",
              "        vertical-align: middle;\n",
              "    }\n",
              "\n",
              "    .dataframe tbody tr th {\n",
              "        vertical-align: top;\n",
              "    }\n",
              "\n",
              "    .dataframe thead th {\n",
              "        text-align: right;\n",
              "    }\n",
              "</style>\n",
              "<table border=\"1\" class=\"dataframe\">\n",
              "  <thead>\n",
              "    <tr style=\"text-align: right;\">\n",
              "      <th></th>\n",
              "      <th>duration</th>\n",
              "      <th>credit_amount</th>\n",
              "      <th>installment_commitment</th>\n",
              "      <th>residence_since</th>\n",
              "      <th>age</th>\n",
              "      <th>existing_credits</th>\n",
              "      <th>num_dependents</th>\n",
              "      <th>class</th>\n",
              "      <th>checking_status_'0&lt;=X&lt;200'</th>\n",
              "      <th>checking_status_'&lt;0'</th>\n",
              "      <th>checking_status_'&gt;=200'</th>\n",
              "      <th>checking_status_'no checking'</th>\n",
              "      <th>credit_history_'all paid'</th>\n",
              "      <th>credit_history_'critical/other existing credit'</th>\n",
              "      <th>credit_history_'delayed previously'</th>\n",
              "      <th>credit_history_'existing paid'</th>\n",
              "      <th>credit_history_'no credits/all paid'</th>\n",
              "      <th>purpose_'domestic appliance'</th>\n",
              "      <th>purpose_'new car'</th>\n",
              "      <th>purpose_'used car'</th>\n",
              "      <th>purpose_business</th>\n",
              "      <th>purpose_education</th>\n",
              "      <th>purpose_furniture/equipment</th>\n",
              "      <th>purpose_other</th>\n",
              "      <th>purpose_radio/tv</th>\n",
              "      <th>purpose_repairs</th>\n",
              "      <th>purpose_retraining</th>\n",
              "      <th>savings_status_'100&lt;=X&lt;500'</th>\n",
              "      <th>savings_status_'500&lt;=X&lt;1000'</th>\n",
              "      <th>savings_status_'&lt;100'</th>\n",
              "      <th>savings_status_'&gt;=1000'</th>\n",
              "      <th>savings_status_'no known savings'</th>\n",
              "      <th>employment_'1&lt;=X&lt;4'</th>\n",
              "      <th>employment_'4&lt;=X&lt;7'</th>\n",
              "      <th>employment_'&lt;1'</th>\n",
              "      <th>employment_'&gt;=7'</th>\n",
              "      <th>employment_unemployed</th>\n",
              "      <th>personal_status_'female div/dep/mar'</th>\n",
              "      <th>personal_status_'male div/sep'</th>\n",
              "      <th>personal_status_'male mar/wid'</th>\n",
              "      <th>personal_status_'male single'</th>\n",
              "      <th>other_parties_'co applicant'</th>\n",
              "      <th>other_parties_guarantor</th>\n",
              "      <th>other_parties_none</th>\n",
              "      <th>property_magnitude_'life insurance'</th>\n",
              "      <th>property_magnitude_'no known property'</th>\n",
              "      <th>property_magnitude_'real estate'</th>\n",
              "      <th>property_magnitude_car</th>\n",
              "      <th>other_payment_plans_bank</th>\n",
              "      <th>other_payment_plans_none</th>\n",
              "      <th>other_payment_plans_stores</th>\n",
              "      <th>housing_'for free'</th>\n",
              "      <th>housing_own</th>\n",
              "      <th>housing_rent</th>\n",
              "      <th>job_'high qualif/self emp/mgmt'</th>\n",
              "      <th>job_'unemp/unskilled non res'</th>\n",
              "      <th>job_'unskilled resident'</th>\n",
              "      <th>job_skilled</th>\n",
              "      <th>own_telephone_none</th>\n",
              "      <th>own_telephone_yes</th>\n",
              "      <th>foreign_worker_no</th>\n",
              "      <th>foreign_worker_yes</th>\n",
              "    </tr>\n",
              "  </thead>\n",
              "  <tbody>\n",
              "    <tr>\n",
              "      <th>0</th>\n",
              "      <td>6</td>\n",
              "      <td>1169</td>\n",
              "      <td>4</td>\n",
              "      <td>4</td>\n",
              "      <td>67</td>\n",
              "      <td>2</td>\n",
              "      <td>1</td>\n",
              "      <td>good</td>\n",
              "      <td>0</td>\n",
              "      <td>1</td>\n",
              "      <td>0</td>\n",
              "      <td>0</td>\n",
              "      <td>0</td>\n",
              "      <td>1</td>\n",
              "      <td>0</td>\n",
              "      <td>0</td>\n",
              "      <td>0</td>\n",
              "      <td>0</td>\n",
              "      <td>0</td>\n",
              "      <td>0</td>\n",
              "      <td>0</td>\n",
              "      <td>0</td>\n",
              "      <td>0</td>\n",
              "      <td>0</td>\n",
              "      <td>1</td>\n",
              "      <td>0</td>\n",
              "      <td>0</td>\n",
              "      <td>0</td>\n",
              "      <td>0</td>\n",
              "      <td>0</td>\n",
              "      <td>0</td>\n",
              "      <td>1</td>\n",
              "      <td>0</td>\n",
              "      <td>0</td>\n",
              "      <td>0</td>\n",
              "      <td>1</td>\n",
              "      <td>0</td>\n",
              "      <td>0</td>\n",
              "      <td>0</td>\n",
              "      <td>0</td>\n",
              "      <td>1</td>\n",
              "      <td>0</td>\n",
              "      <td>0</td>\n",
              "      <td>1</td>\n",
              "      <td>0</td>\n",
              "      <td>0</td>\n",
              "      <td>1</td>\n",
              "      <td>0</td>\n",
              "      <td>0</td>\n",
              "      <td>1</td>\n",
              "      <td>0</td>\n",
              "      <td>0</td>\n",
              "      <td>1</td>\n",
              "      <td>0</td>\n",
              "      <td>0</td>\n",
              "      <td>0</td>\n",
              "      <td>0</td>\n",
              "      <td>1</td>\n",
              "      <td>0</td>\n",
              "      <td>1</td>\n",
              "      <td>0</td>\n",
              "      <td>1</td>\n",
              "    </tr>\n",
              "    <tr>\n",
              "      <th>1</th>\n",
              "      <td>48</td>\n",
              "      <td>5951</td>\n",
              "      <td>2</td>\n",
              "      <td>2</td>\n",
              "      <td>22</td>\n",
              "      <td>1</td>\n",
              "      <td>1</td>\n",
              "      <td>bad</td>\n",
              "      <td>1</td>\n",
              "      <td>0</td>\n",
              "      <td>0</td>\n",
              "      <td>0</td>\n",
              "      <td>0</td>\n",
              "      <td>0</td>\n",
              "      <td>0</td>\n",
              "      <td>1</td>\n",
              "      <td>0</td>\n",
              "      <td>0</td>\n",
              "      <td>0</td>\n",
              "      <td>0</td>\n",
              "      <td>0</td>\n",
              "      <td>0</td>\n",
              "      <td>0</td>\n",
              "      <td>0</td>\n",
              "      <td>1</td>\n",
              "      <td>0</td>\n",
              "      <td>0</td>\n",
              "      <td>0</td>\n",
              "      <td>0</td>\n",
              "      <td>1</td>\n",
              "      <td>0</td>\n",
              "      <td>0</td>\n",
              "      <td>1</td>\n",
              "      <td>0</td>\n",
              "      <td>0</td>\n",
              "      <td>0</td>\n",
              "      <td>0</td>\n",
              "      <td>1</td>\n",
              "      <td>0</td>\n",
              "      <td>0</td>\n",
              "      <td>0</td>\n",
              "      <td>0</td>\n",
              "      <td>0</td>\n",
              "      <td>1</td>\n",
              "      <td>0</td>\n",
              "      <td>0</td>\n",
              "      <td>1</td>\n",
              "      <td>0</td>\n",
              "      <td>0</td>\n",
              "      <td>1</td>\n",
              "      <td>0</td>\n",
              "      <td>0</td>\n",
              "      <td>1</td>\n",
              "      <td>0</td>\n",
              "      <td>0</td>\n",
              "      <td>0</td>\n",
              "      <td>0</td>\n",
              "      <td>1</td>\n",
              "      <td>1</td>\n",
              "      <td>0</td>\n",
              "      <td>0</td>\n",
              "      <td>1</td>\n",
              "    </tr>\n",
              "    <tr>\n",
              "      <th>2</th>\n",
              "      <td>12</td>\n",
              "      <td>2096</td>\n",
              "      <td>2</td>\n",
              "      <td>3</td>\n",
              "      <td>49</td>\n",
              "      <td>1</td>\n",
              "      <td>2</td>\n",
              "      <td>good</td>\n",
              "      <td>0</td>\n",
              "      <td>0</td>\n",
              "      <td>0</td>\n",
              "      <td>1</td>\n",
              "      <td>0</td>\n",
              "      <td>1</td>\n",
              "      <td>0</td>\n",
              "      <td>0</td>\n",
              "      <td>0</td>\n",
              "      <td>0</td>\n",
              "      <td>0</td>\n",
              "      <td>0</td>\n",
              "      <td>0</td>\n",
              "      <td>1</td>\n",
              "      <td>0</td>\n",
              "      <td>0</td>\n",
              "      <td>0</td>\n",
              "      <td>0</td>\n",
              "      <td>0</td>\n",
              "      <td>0</td>\n",
              "      <td>0</td>\n",
              "      <td>1</td>\n",
              "      <td>0</td>\n",
              "      <td>0</td>\n",
              "      <td>0</td>\n",
              "      <td>1</td>\n",
              "      <td>0</td>\n",
              "      <td>0</td>\n",
              "      <td>0</td>\n",
              "      <td>0</td>\n",
              "      <td>0</td>\n",
              "      <td>0</td>\n",
              "      <td>1</td>\n",
              "      <td>0</td>\n",
              "      <td>0</td>\n",
              "      <td>1</td>\n",
              "      <td>0</td>\n",
              "      <td>0</td>\n",
              "      <td>1</td>\n",
              "      <td>0</td>\n",
              "      <td>0</td>\n",
              "      <td>1</td>\n",
              "      <td>0</td>\n",
              "      <td>0</td>\n",
              "      <td>1</td>\n",
              "      <td>0</td>\n",
              "      <td>0</td>\n",
              "      <td>0</td>\n",
              "      <td>1</td>\n",
              "      <td>0</td>\n",
              "      <td>1</td>\n",
              "      <td>0</td>\n",
              "      <td>0</td>\n",
              "      <td>1</td>\n",
              "    </tr>\n",
              "    <tr>\n",
              "      <th>3</th>\n",
              "      <td>42</td>\n",
              "      <td>7882</td>\n",
              "      <td>2</td>\n",
              "      <td>4</td>\n",
              "      <td>45</td>\n",
              "      <td>1</td>\n",
              "      <td>2</td>\n",
              "      <td>good</td>\n",
              "      <td>0</td>\n",
              "      <td>1</td>\n",
              "      <td>0</td>\n",
              "      <td>0</td>\n",
              "      <td>0</td>\n",
              "      <td>0</td>\n",
              "      <td>0</td>\n",
              "      <td>1</td>\n",
              "      <td>0</td>\n",
              "      <td>0</td>\n",
              "      <td>0</td>\n",
              "      <td>0</td>\n",
              "      <td>0</td>\n",
              "      <td>0</td>\n",
              "      <td>1</td>\n",
              "      <td>0</td>\n",
              "      <td>0</td>\n",
              "      <td>0</td>\n",
              "      <td>0</td>\n",
              "      <td>0</td>\n",
              "      <td>0</td>\n",
              "      <td>1</td>\n",
              "      <td>0</td>\n",
              "      <td>0</td>\n",
              "      <td>0</td>\n",
              "      <td>1</td>\n",
              "      <td>0</td>\n",
              "      <td>0</td>\n",
              "      <td>0</td>\n",
              "      <td>0</td>\n",
              "      <td>0</td>\n",
              "      <td>0</td>\n",
              "      <td>1</td>\n",
              "      <td>0</td>\n",
              "      <td>1</td>\n",
              "      <td>0</td>\n",
              "      <td>1</td>\n",
              "      <td>0</td>\n",
              "      <td>0</td>\n",
              "      <td>0</td>\n",
              "      <td>0</td>\n",
              "      <td>1</td>\n",
              "      <td>0</td>\n",
              "      <td>1</td>\n",
              "      <td>0</td>\n",
              "      <td>0</td>\n",
              "      <td>0</td>\n",
              "      <td>0</td>\n",
              "      <td>0</td>\n",
              "      <td>1</td>\n",
              "      <td>1</td>\n",
              "      <td>0</td>\n",
              "      <td>0</td>\n",
              "      <td>1</td>\n",
              "    </tr>\n",
              "    <tr>\n",
              "      <th>4</th>\n",
              "      <td>24</td>\n",
              "      <td>4870</td>\n",
              "      <td>3</td>\n",
              "      <td>4</td>\n",
              "      <td>53</td>\n",
              "      <td>2</td>\n",
              "      <td>2</td>\n",
              "      <td>bad</td>\n",
              "      <td>0</td>\n",
              "      <td>1</td>\n",
              "      <td>0</td>\n",
              "      <td>0</td>\n",
              "      <td>0</td>\n",
              "      <td>0</td>\n",
              "      <td>1</td>\n",
              "      <td>0</td>\n",
              "      <td>0</td>\n",
              "      <td>0</td>\n",
              "      <td>1</td>\n",
              "      <td>0</td>\n",
              "      <td>0</td>\n",
              "      <td>0</td>\n",
              "      <td>0</td>\n",
              "      <td>0</td>\n",
              "      <td>0</td>\n",
              "      <td>0</td>\n",
              "      <td>0</td>\n",
              "      <td>0</td>\n",
              "      <td>0</td>\n",
              "      <td>1</td>\n",
              "      <td>0</td>\n",
              "      <td>0</td>\n",
              "      <td>1</td>\n",
              "      <td>0</td>\n",
              "      <td>0</td>\n",
              "      <td>0</td>\n",
              "      <td>0</td>\n",
              "      <td>0</td>\n",
              "      <td>0</td>\n",
              "      <td>0</td>\n",
              "      <td>1</td>\n",
              "      <td>0</td>\n",
              "      <td>0</td>\n",
              "      <td>1</td>\n",
              "      <td>0</td>\n",
              "      <td>1</td>\n",
              "      <td>0</td>\n",
              "      <td>0</td>\n",
              "      <td>0</td>\n",
              "      <td>1</td>\n",
              "      <td>0</td>\n",
              "      <td>1</td>\n",
              "      <td>0</td>\n",
              "      <td>0</td>\n",
              "      <td>0</td>\n",
              "      <td>0</td>\n",
              "      <td>0</td>\n",
              "      <td>1</td>\n",
              "      <td>1</td>\n",
              "      <td>0</td>\n",
              "      <td>0</td>\n",
              "      <td>1</td>\n",
              "    </tr>\n",
              "  </tbody>\n",
              "</table>\n",
              "</div>"
            ],
            "text/plain": [
              "   duration  credit_amount  ...  foreign_worker_no  foreign_worker_yes\n",
              "0         6           1169  ...                  0                   1\n",
              "1        48           5951  ...                  0                   1\n",
              "2        12           2096  ...                  0                   1\n",
              "3        42           7882  ...                  0                   1\n",
              "4        24           4870  ...                  0                   1\n",
              "\n",
              "[5 rows x 62 columns]"
            ]
          },
          "metadata": {
            "tags": []
          },
          "execution_count": 44
        }
      ]
    },
    {
      "cell_type": "code",
      "metadata": {
        "colab": {
          "base_uri": "https://localhost:8080/"
        },
        "id": "YoppzUNl4mv8",
        "outputId": "335110ad-b60c-4f9b-afb3-55763e87e96c"
      },
      "source": [
        "#number of rows and columns present in the new data frame (after one hot encoding)\n",
        "print(\"Number of rows: \", len(new_df.axes[0]))\n",
        "print(\"Number of columns: \", len(new_df.axes[1]))"
      ],
      "execution_count": 45,
      "outputs": [
        {
          "output_type": "stream",
          "text": [
            "Number of rows:  1000\n",
            "Number of columns:  62\n"
          ],
          "name": "stdout"
        }
      ]
    },
    {
      "cell_type": "code",
      "metadata": {
        "colab": {
          "base_uri": "https://localhost:8080/"
        },
        "id": "n_xPS-2T4yhF",
        "outputId": "ec48f760-2c2f-4090-f1a3-17bc91f32125"
      },
      "source": [
        "#number of data items and features present in the new data frame\n",
        "#number of data items remains same \n",
        "#number of features chanegs from 20 --> 61 (because of one hot encoding the categorical features)\n",
        "print(\"Number of data items: \", len(new_df.axes[0]))\n",
        "print(\"Number of features: \", len(new_df.axes[1])-1)"
      ],
      "execution_count": 46,
      "outputs": [
        {
          "output_type": "stream",
          "text": [
            "Number of data items:  1000\n",
            "Number of features:  61\n"
          ],
          "name": "stdout"
        }
      ]
    },
    {
      "cell_type": "code",
      "metadata": {
        "id": "QecjD7Q543XJ"
      },
      "source": [
        "#Converting the class - categorical data column and encoding it with numerical codes\n",
        "new_df['class'] = new_df['class'].astype('category')\n",
        "new_df['class'] = new_df['class'].cat.codes"
      ],
      "execution_count": 49,
      "outputs": []
    },
    {
      "cell_type": "code",
      "metadata": {
        "colab": {
          "base_uri": "https://localhost:8080/",
          "height": 258
        },
        "id": "MaWUkE_m5Zb8",
        "outputId": "8e5727b5-aaad-4bab-f1d8-fd20f6a970c6"
      },
      "source": [
        "#printing top five rows from the new data frame\n",
        "new_df.head()"
      ],
      "execution_count": 50,
      "outputs": [
        {
          "output_type": "execute_result",
          "data": {
            "text/html": [
              "<div>\n",
              "<style scoped>\n",
              "    .dataframe tbody tr th:only-of-type {\n",
              "        vertical-align: middle;\n",
              "    }\n",
              "\n",
              "    .dataframe tbody tr th {\n",
              "        vertical-align: top;\n",
              "    }\n",
              "\n",
              "    .dataframe thead th {\n",
              "        text-align: right;\n",
              "    }\n",
              "</style>\n",
              "<table border=\"1\" class=\"dataframe\">\n",
              "  <thead>\n",
              "    <tr style=\"text-align: right;\">\n",
              "      <th></th>\n",
              "      <th>duration</th>\n",
              "      <th>credit_amount</th>\n",
              "      <th>installment_commitment</th>\n",
              "      <th>residence_since</th>\n",
              "      <th>age</th>\n",
              "      <th>existing_credits</th>\n",
              "      <th>num_dependents</th>\n",
              "      <th>class</th>\n",
              "      <th>checking_status_'0&lt;=X&lt;200'</th>\n",
              "      <th>checking_status_'&lt;0'</th>\n",
              "      <th>checking_status_'&gt;=200'</th>\n",
              "      <th>checking_status_'no checking'</th>\n",
              "      <th>credit_history_'all paid'</th>\n",
              "      <th>credit_history_'critical/other existing credit'</th>\n",
              "      <th>credit_history_'delayed previously'</th>\n",
              "      <th>credit_history_'existing paid'</th>\n",
              "      <th>credit_history_'no credits/all paid'</th>\n",
              "      <th>purpose_'domestic appliance'</th>\n",
              "      <th>purpose_'new car'</th>\n",
              "      <th>purpose_'used car'</th>\n",
              "      <th>purpose_business</th>\n",
              "      <th>purpose_education</th>\n",
              "      <th>purpose_furniture/equipment</th>\n",
              "      <th>purpose_other</th>\n",
              "      <th>purpose_radio/tv</th>\n",
              "      <th>purpose_repairs</th>\n",
              "      <th>purpose_retraining</th>\n",
              "      <th>savings_status_'100&lt;=X&lt;500'</th>\n",
              "      <th>savings_status_'500&lt;=X&lt;1000'</th>\n",
              "      <th>savings_status_'&lt;100'</th>\n",
              "      <th>savings_status_'&gt;=1000'</th>\n",
              "      <th>savings_status_'no known savings'</th>\n",
              "      <th>employment_'1&lt;=X&lt;4'</th>\n",
              "      <th>employment_'4&lt;=X&lt;7'</th>\n",
              "      <th>employment_'&lt;1'</th>\n",
              "      <th>employment_'&gt;=7'</th>\n",
              "      <th>employment_unemployed</th>\n",
              "      <th>personal_status_'female div/dep/mar'</th>\n",
              "      <th>personal_status_'male div/sep'</th>\n",
              "      <th>personal_status_'male mar/wid'</th>\n",
              "      <th>personal_status_'male single'</th>\n",
              "      <th>other_parties_'co applicant'</th>\n",
              "      <th>other_parties_guarantor</th>\n",
              "      <th>other_parties_none</th>\n",
              "      <th>property_magnitude_'life insurance'</th>\n",
              "      <th>property_magnitude_'no known property'</th>\n",
              "      <th>property_magnitude_'real estate'</th>\n",
              "      <th>property_magnitude_car</th>\n",
              "      <th>other_payment_plans_bank</th>\n",
              "      <th>other_payment_plans_none</th>\n",
              "      <th>other_payment_plans_stores</th>\n",
              "      <th>housing_'for free'</th>\n",
              "      <th>housing_own</th>\n",
              "      <th>housing_rent</th>\n",
              "      <th>job_'high qualif/self emp/mgmt'</th>\n",
              "      <th>job_'unemp/unskilled non res'</th>\n",
              "      <th>job_'unskilled resident'</th>\n",
              "      <th>job_skilled</th>\n",
              "      <th>own_telephone_none</th>\n",
              "      <th>own_telephone_yes</th>\n",
              "      <th>foreign_worker_no</th>\n",
              "      <th>foreign_worker_yes</th>\n",
              "    </tr>\n",
              "  </thead>\n",
              "  <tbody>\n",
              "    <tr>\n",
              "      <th>0</th>\n",
              "      <td>6</td>\n",
              "      <td>1169</td>\n",
              "      <td>4</td>\n",
              "      <td>4</td>\n",
              "      <td>67</td>\n",
              "      <td>2</td>\n",
              "      <td>1</td>\n",
              "      <td>1</td>\n",
              "      <td>0</td>\n",
              "      <td>1</td>\n",
              "      <td>0</td>\n",
              "      <td>0</td>\n",
              "      <td>0</td>\n",
              "      <td>1</td>\n",
              "      <td>0</td>\n",
              "      <td>0</td>\n",
              "      <td>0</td>\n",
              "      <td>0</td>\n",
              "      <td>0</td>\n",
              "      <td>0</td>\n",
              "      <td>0</td>\n",
              "      <td>0</td>\n",
              "      <td>0</td>\n",
              "      <td>0</td>\n",
              "      <td>1</td>\n",
              "      <td>0</td>\n",
              "      <td>0</td>\n",
              "      <td>0</td>\n",
              "      <td>0</td>\n",
              "      <td>0</td>\n",
              "      <td>0</td>\n",
              "      <td>1</td>\n",
              "      <td>0</td>\n",
              "      <td>0</td>\n",
              "      <td>0</td>\n",
              "      <td>1</td>\n",
              "      <td>0</td>\n",
              "      <td>0</td>\n",
              "      <td>0</td>\n",
              "      <td>0</td>\n",
              "      <td>1</td>\n",
              "      <td>0</td>\n",
              "      <td>0</td>\n",
              "      <td>1</td>\n",
              "      <td>0</td>\n",
              "      <td>0</td>\n",
              "      <td>1</td>\n",
              "      <td>0</td>\n",
              "      <td>0</td>\n",
              "      <td>1</td>\n",
              "      <td>0</td>\n",
              "      <td>0</td>\n",
              "      <td>1</td>\n",
              "      <td>0</td>\n",
              "      <td>0</td>\n",
              "      <td>0</td>\n",
              "      <td>0</td>\n",
              "      <td>1</td>\n",
              "      <td>0</td>\n",
              "      <td>1</td>\n",
              "      <td>0</td>\n",
              "      <td>1</td>\n",
              "    </tr>\n",
              "    <tr>\n",
              "      <th>1</th>\n",
              "      <td>48</td>\n",
              "      <td>5951</td>\n",
              "      <td>2</td>\n",
              "      <td>2</td>\n",
              "      <td>22</td>\n",
              "      <td>1</td>\n",
              "      <td>1</td>\n",
              "      <td>0</td>\n",
              "      <td>1</td>\n",
              "      <td>0</td>\n",
              "      <td>0</td>\n",
              "      <td>0</td>\n",
              "      <td>0</td>\n",
              "      <td>0</td>\n",
              "      <td>0</td>\n",
              "      <td>1</td>\n",
              "      <td>0</td>\n",
              "      <td>0</td>\n",
              "      <td>0</td>\n",
              "      <td>0</td>\n",
              "      <td>0</td>\n",
              "      <td>0</td>\n",
              "      <td>0</td>\n",
              "      <td>0</td>\n",
              "      <td>1</td>\n",
              "      <td>0</td>\n",
              "      <td>0</td>\n",
              "      <td>0</td>\n",
              "      <td>0</td>\n",
              "      <td>1</td>\n",
              "      <td>0</td>\n",
              "      <td>0</td>\n",
              "      <td>1</td>\n",
              "      <td>0</td>\n",
              "      <td>0</td>\n",
              "      <td>0</td>\n",
              "      <td>0</td>\n",
              "      <td>1</td>\n",
              "      <td>0</td>\n",
              "      <td>0</td>\n",
              "      <td>0</td>\n",
              "      <td>0</td>\n",
              "      <td>0</td>\n",
              "      <td>1</td>\n",
              "      <td>0</td>\n",
              "      <td>0</td>\n",
              "      <td>1</td>\n",
              "      <td>0</td>\n",
              "      <td>0</td>\n",
              "      <td>1</td>\n",
              "      <td>0</td>\n",
              "      <td>0</td>\n",
              "      <td>1</td>\n",
              "      <td>0</td>\n",
              "      <td>0</td>\n",
              "      <td>0</td>\n",
              "      <td>0</td>\n",
              "      <td>1</td>\n",
              "      <td>1</td>\n",
              "      <td>0</td>\n",
              "      <td>0</td>\n",
              "      <td>1</td>\n",
              "    </tr>\n",
              "    <tr>\n",
              "      <th>2</th>\n",
              "      <td>12</td>\n",
              "      <td>2096</td>\n",
              "      <td>2</td>\n",
              "      <td>3</td>\n",
              "      <td>49</td>\n",
              "      <td>1</td>\n",
              "      <td>2</td>\n",
              "      <td>1</td>\n",
              "      <td>0</td>\n",
              "      <td>0</td>\n",
              "      <td>0</td>\n",
              "      <td>1</td>\n",
              "      <td>0</td>\n",
              "      <td>1</td>\n",
              "      <td>0</td>\n",
              "      <td>0</td>\n",
              "      <td>0</td>\n",
              "      <td>0</td>\n",
              "      <td>0</td>\n",
              "      <td>0</td>\n",
              "      <td>0</td>\n",
              "      <td>1</td>\n",
              "      <td>0</td>\n",
              "      <td>0</td>\n",
              "      <td>0</td>\n",
              "      <td>0</td>\n",
              "      <td>0</td>\n",
              "      <td>0</td>\n",
              "      <td>0</td>\n",
              "      <td>1</td>\n",
              "      <td>0</td>\n",
              "      <td>0</td>\n",
              "      <td>0</td>\n",
              "      <td>1</td>\n",
              "      <td>0</td>\n",
              "      <td>0</td>\n",
              "      <td>0</td>\n",
              "      <td>0</td>\n",
              "      <td>0</td>\n",
              "      <td>0</td>\n",
              "      <td>1</td>\n",
              "      <td>0</td>\n",
              "      <td>0</td>\n",
              "      <td>1</td>\n",
              "      <td>0</td>\n",
              "      <td>0</td>\n",
              "      <td>1</td>\n",
              "      <td>0</td>\n",
              "      <td>0</td>\n",
              "      <td>1</td>\n",
              "      <td>0</td>\n",
              "      <td>0</td>\n",
              "      <td>1</td>\n",
              "      <td>0</td>\n",
              "      <td>0</td>\n",
              "      <td>0</td>\n",
              "      <td>1</td>\n",
              "      <td>0</td>\n",
              "      <td>1</td>\n",
              "      <td>0</td>\n",
              "      <td>0</td>\n",
              "      <td>1</td>\n",
              "    </tr>\n",
              "    <tr>\n",
              "      <th>3</th>\n",
              "      <td>42</td>\n",
              "      <td>7882</td>\n",
              "      <td>2</td>\n",
              "      <td>4</td>\n",
              "      <td>45</td>\n",
              "      <td>1</td>\n",
              "      <td>2</td>\n",
              "      <td>1</td>\n",
              "      <td>0</td>\n",
              "      <td>1</td>\n",
              "      <td>0</td>\n",
              "      <td>0</td>\n",
              "      <td>0</td>\n",
              "      <td>0</td>\n",
              "      <td>0</td>\n",
              "      <td>1</td>\n",
              "      <td>0</td>\n",
              "      <td>0</td>\n",
              "      <td>0</td>\n",
              "      <td>0</td>\n",
              "      <td>0</td>\n",
              "      <td>0</td>\n",
              "      <td>1</td>\n",
              "      <td>0</td>\n",
              "      <td>0</td>\n",
              "      <td>0</td>\n",
              "      <td>0</td>\n",
              "      <td>0</td>\n",
              "      <td>0</td>\n",
              "      <td>1</td>\n",
              "      <td>0</td>\n",
              "      <td>0</td>\n",
              "      <td>0</td>\n",
              "      <td>1</td>\n",
              "      <td>0</td>\n",
              "      <td>0</td>\n",
              "      <td>0</td>\n",
              "      <td>0</td>\n",
              "      <td>0</td>\n",
              "      <td>0</td>\n",
              "      <td>1</td>\n",
              "      <td>0</td>\n",
              "      <td>1</td>\n",
              "      <td>0</td>\n",
              "      <td>1</td>\n",
              "      <td>0</td>\n",
              "      <td>0</td>\n",
              "      <td>0</td>\n",
              "      <td>0</td>\n",
              "      <td>1</td>\n",
              "      <td>0</td>\n",
              "      <td>1</td>\n",
              "      <td>0</td>\n",
              "      <td>0</td>\n",
              "      <td>0</td>\n",
              "      <td>0</td>\n",
              "      <td>0</td>\n",
              "      <td>1</td>\n",
              "      <td>1</td>\n",
              "      <td>0</td>\n",
              "      <td>0</td>\n",
              "      <td>1</td>\n",
              "    </tr>\n",
              "    <tr>\n",
              "      <th>4</th>\n",
              "      <td>24</td>\n",
              "      <td>4870</td>\n",
              "      <td>3</td>\n",
              "      <td>4</td>\n",
              "      <td>53</td>\n",
              "      <td>2</td>\n",
              "      <td>2</td>\n",
              "      <td>0</td>\n",
              "      <td>0</td>\n",
              "      <td>1</td>\n",
              "      <td>0</td>\n",
              "      <td>0</td>\n",
              "      <td>0</td>\n",
              "      <td>0</td>\n",
              "      <td>1</td>\n",
              "      <td>0</td>\n",
              "      <td>0</td>\n",
              "      <td>0</td>\n",
              "      <td>1</td>\n",
              "      <td>0</td>\n",
              "      <td>0</td>\n",
              "      <td>0</td>\n",
              "      <td>0</td>\n",
              "      <td>0</td>\n",
              "      <td>0</td>\n",
              "      <td>0</td>\n",
              "      <td>0</td>\n",
              "      <td>0</td>\n",
              "      <td>0</td>\n",
              "      <td>1</td>\n",
              "      <td>0</td>\n",
              "      <td>0</td>\n",
              "      <td>1</td>\n",
              "      <td>0</td>\n",
              "      <td>0</td>\n",
              "      <td>0</td>\n",
              "      <td>0</td>\n",
              "      <td>0</td>\n",
              "      <td>0</td>\n",
              "      <td>0</td>\n",
              "      <td>1</td>\n",
              "      <td>0</td>\n",
              "      <td>0</td>\n",
              "      <td>1</td>\n",
              "      <td>0</td>\n",
              "      <td>1</td>\n",
              "      <td>0</td>\n",
              "      <td>0</td>\n",
              "      <td>0</td>\n",
              "      <td>1</td>\n",
              "      <td>0</td>\n",
              "      <td>1</td>\n",
              "      <td>0</td>\n",
              "      <td>0</td>\n",
              "      <td>0</td>\n",
              "      <td>0</td>\n",
              "      <td>0</td>\n",
              "      <td>1</td>\n",
              "      <td>1</td>\n",
              "      <td>0</td>\n",
              "      <td>0</td>\n",
              "      <td>1</td>\n",
              "    </tr>\n",
              "  </tbody>\n",
              "</table>\n",
              "</div>"
            ],
            "text/plain": [
              "   duration  credit_amount  ...  foreign_worker_no  foreign_worker_yes\n",
              "0         6           1169  ...                  0                   1\n",
              "1        48           5951  ...                  0                   1\n",
              "2        12           2096  ...                  0                   1\n",
              "3        42           7882  ...                  0                   1\n",
              "4        24           4870  ...                  0                   1\n",
              "\n",
              "[5 rows x 62 columns]"
            ]
          },
          "metadata": {
            "tags": []
          },
          "execution_count": 50
        }
      ]
    },
    {
      "cell_type": "code",
      "metadata": {
        "id": "L65vKN2g6w-L"
      },
      "source": [
        "#loading all the required libraries for model, and metric score calculations\n",
        "#The experiment is done over four different models, \n",
        "#1. Support Vector Classifier\n",
        "#2. Random Forest Classifier\n",
        "#3. Logistic Regression\n",
        "#4. Naive Bayes\n",
        "from sklearn.preprocessing import StandardScaler, MinMaxScaler\n",
        "from sklearn.model_selection import train_test_split\n",
        "from sklearn.pipeline import make_pipeline\n",
        "from sklearn.preprocessing import StandardScaler\n",
        "from sklearn import svm\n",
        "from sklearn.naive_bayes import GaussianNB\n",
        "from sklearn.metrics import precision_recall_fscore_support\n",
        "from sklearn.linear_model import LogisticRegression\n",
        "from sklearn.ensemble import RandomForestClassifier\n",
        "from sklearn import metrics\n",
        "from sklearn.metrics import accuracy_score\n",
        "from sklearn.metrics import roc_auc_score\n",
        "from sklearn.metrics import precision_score\n",
        "from sklearn.metrics import recall_score\n",
        "from sklearn.metrics import f1_score\n",
        "import numpy as np"
      ],
      "execution_count": 108,
      "outputs": []
    },
    {
      "cell_type": "code",
      "metadata": {
        "id": "nP_k7hDq8-MC"
      },
      "source": [
        "#defined a function to calculate accuracy, precision, recall and f1-score\n",
        "#of trained models over test dataset.\n",
        "def model_metrics(predictions, test_label):\n",
        "  predictions = np.array([i+1 for i in predictions])\n",
        "  test_label = np.array([i+1 for i in test_label])\n",
        "  errors = abs(predictions - test_label)\n",
        "  mape = 100 * (errors / test_label)\n",
        "  accur = 100 - np.mean(mape)\n",
        "  predictions = [round(i,0) for i in predictions]\n",
        "  prf = precision_recall_fscore_support(test_label, predictions, labels = [1,2], average='weighted')\n",
        "\n",
        "  return round(accur,2), prf[0], prf[1], prf[2]"
      ],
      "execution_count": 101,
      "outputs": []
    },
    {
      "cell_type": "code",
      "metadata": {
        "id": "HkdA_UuC9F3o"
      },
      "source": [
        "#defined functions for each model, which trains the model, calculates the AUC and\n",
        "#also references to model_metrics function which returns accuracy, precision, recall\n",
        "#and F1-Score\n",
        "def model_RF(train, train_label, test, test_label):\n",
        "  rf = RandomForestClassifier(max_depth=2, random_state = 43332)\n",
        "  rf.fit(train, train_label)\n",
        "  predictions = rf.predict(test)\n",
        "  accuracy, precision, recall, fscore = model_metrics(predictions, test_label)\n",
        "  #print(roc_auc_score(test_label, predictions))\n",
        "  #raise KeyboardInterrupt\n",
        "  print(rf)\n",
        "\n",
        "  return accuracy, precision, recall, fscore, roc_auc_score(test_label, predictions)\n",
        "\n",
        "def model_NB(train, train_label, test, test_label):\n",
        "  gnb = GaussianNB()\n",
        "  predictions = gnb.fit(train, train_label).predict(test)\n",
        "  accuracy, precision, recall, fscore = model_metrics(predictions, test_label)\n",
        "  proba = gnb.predict_proba(test)\n",
        "  #print(roc_auc_score(test_label, proba[:,1]))\n",
        "  #raise KeyboardInterrupt\n",
        "  print(gnb)\n",
        "\n",
        "  return accuracy, precision, recall, fscore, roc_auc_score(test_label, proba[:,1])\n",
        "\n",
        "def model_LR(train, train_label, test, test_label):\n",
        "  logreg = LogisticRegression()\n",
        "  logreg.fit(train, train_label)\n",
        "  predictions = logreg.predict(test)\n",
        "  accuracy, precision, recall, fscore = model_metrics(predictions, test_label)\n",
        "  proba = logreg.predict_proba(test)\n",
        "  #print(roc_auc_score(test_label, proba[:,1]))\n",
        "  #raise KeyboardInterrupt\n",
        "  print(logreg)\n",
        "\n",
        "  return accuracy, precision, recall, fscore, roc_auc_score(test_label, proba[:,1])\n",
        "\n",
        "def model_SVM(train, train_label, test, test_label):\n",
        "  clf = svm.SVC()\n",
        "  clf.fit(train, train_label)\n",
        "  predictions = clf.predict(test)\n",
        "  accuracy, precision, recall, fscore = model_metrics(predictions, test_label)\n",
        "  #print(roc_auc_score(test_label, predictions))\n",
        "  #raise KeyboardInterrupt\n",
        "  print(clf)\n",
        "\n",
        "  return accuracy, precision, recall, fscore, roc_auc_score(test_label, predictions)"
      ],
      "execution_count": 106,
      "outputs": []
    },
    {
      "cell_type": "code",
      "metadata": {
        "id": "RL90KkrF5jvg"
      },
      "source": [
        "#X- Al the Feature Set\n",
        "#Y- Label Set\n",
        "Y = new_df['class'].values\n",
        "X = new_df.drop(['class'], axis = 1).values"
      ],
      "execution_count": 77,
      "outputs": []
    },
    {
      "cell_type": "code",
      "metadata": {
        "id": "pNCiUf5n6y9S"
      },
      "source": [
        "#Scaling the values before giving it input to the model\n",
        "predscaler = MinMaxScaler()\n",
        "predscalerfit = predscaler.fit(X)\n",
        "X = predscalerfit.transform(X)"
      ],
      "execution_count": 78,
      "outputs": []
    },
    {
      "cell_type": "code",
      "metadata": {
        "id": "4KlxKeyZ6yx1"
      },
      "source": [
        "#Splitting the data set into train and test dataset with a ration of 70% train and 30% test\n",
        "X_Train, X_Test, Y_Train, Y_Test = train_test_split(X, Y, test_size = 0.3, random_state = 4567898)"
      ],
      "execution_count": 79,
      "outputs": []
    },
    {
      "cell_type": "code",
      "metadata": {
        "colab": {
          "base_uri": "https://localhost:8080/"
        },
        "id": "U6rxBG0N67s1",
        "outputId": "e59d5115-0820-4084-8e89-dc244d7b6d31"
      },
      "source": [
        "#printing the shape of my train, test feature set and label set\n",
        "print(X_Train.shape)\n",
        "print(Y_Train.shape)\n",
        "print(X_Test.shape)\n",
        "print(Y_Test.shape)"
      ],
      "execution_count": 80,
      "outputs": [
        {
          "output_type": "stream",
          "text": [
            "(700, 61)\n",
            "(700,)\n",
            "(300, 61)\n",
            "(300,)\n"
          ],
          "name": "stdout"
        }
      ]
    },
    {
      "cell_type": "code",
      "metadata": {
        "id": "c7t-xtaQ9gad"
      },
      "source": [
        "#initializing four lists, to store the trained model metric\n",
        "models_acc = list()\n",
        "models_pre = list()\n",
        "models_rec = list()\n",
        "models_fscore = list()\n",
        "models_auc = list()"
      ],
      "execution_count": 103,
      "outputs": []
    },
    {
      "cell_type": "code",
      "metadata": {
        "colab": {
          "base_uri": "https://localhost:8080/"
        },
        "id": "EpCW-lys8p5q",
        "outputId": "825de0ec-e486-4bca-d1d7-f4e0d8fb7833"
      },
      "source": [
        "#training SVC Model and storing the metric in their respective lists\n",
        "accuracy, precision, recall, fscore, auc = model_SVM(X_Train, Y_Train, X_Test, Y_Test)\n",
        "models_acc.append(accuracy)\n",
        "models_pre.append(precision)\n",
        "models_rec.append(recall)\n",
        "models_fscore.append(fscore)\n",
        "models_auc.append(auc)"
      ],
      "execution_count": 104,
      "outputs": [
        {
          "output_type": "stream",
          "text": [
            "SVC(C=1.0, break_ties=False, cache_size=200, class_weight=None, coef0=0.0,\n",
            "    decision_function_shape='ovr', degree=3, gamma='scale', kernel='rbf',\n",
            "    max_iter=-1, probability=False, random_state=None, shrinking=True,\n",
            "    tol=0.001, verbose=False)\n"
          ],
          "name": "stdout"
        }
      ]
    },
    {
      "cell_type": "code",
      "metadata": {
        "colab": {
          "base_uri": "https://localhost:8080/"
        },
        "id": "yclQyN1U956o",
        "outputId": "3e8a3267-e193-42f9-e0f1-dd8f99880e51"
      },
      "source": [
        "#training SVC Model and storing the metric in their respective lists\n",
        "accuracy, precision, recall, fscore, auc = model_RF(X_Train, Y_Train, X_Test, Y_Test)\n",
        "models_acc.append(accuracy)\n",
        "models_pre.append(precision)\n",
        "models_rec.append(recall)\n",
        "models_fscore.append(fscore)\n",
        "models_auc.append(auc)"
      ],
      "execution_count": 109,
      "outputs": [
        {
          "output_type": "stream",
          "text": [
            "RandomForestClassifier(bootstrap=True, ccp_alpha=0.0, class_weight=None,\n",
            "                       criterion='gini', max_depth=2, max_features='auto',\n",
            "                       max_leaf_nodes=None, max_samples=None,\n",
            "                       min_impurity_decrease=0.0, min_impurity_split=None,\n",
            "                       min_samples_leaf=1, min_samples_split=2,\n",
            "                       min_weight_fraction_leaf=0.0, n_estimators=100,\n",
            "                       n_jobs=None, oob_score=False, random_state=43332,\n",
            "                       verbose=0, warm_start=False)\n"
          ],
          "name": "stdout"
        },
        {
          "output_type": "stream",
          "text": [
            "/usr/local/lib/python3.6/dist-packages/sklearn/metrics/_classification.py:1272: UndefinedMetricWarning: Precision and F-score are ill-defined and being set to 0.0 in labels with no predicted samples. Use `zero_division` parameter to control this behavior.\n",
            "  _warn_prf(average, modifier, msg_start, len(result))\n"
          ],
          "name": "stderr"
        }
      ]
    },
    {
      "cell_type": "code",
      "metadata": {
        "colab": {
          "base_uri": "https://localhost:8080/"
        },
        "id": "S14WNRW_-TUT",
        "outputId": "70728a13-f6fa-49d1-b823-53329e3f00ae"
      },
      "source": [
        "#training SVC Model and storing the metric in their respective lists\n",
        "accuracy, precision, recall, fscore, auc = model_NB(X_Train, Y_Train, X_Test, Y_Test)\n",
        "models_acc.append(accuracy)\n",
        "models_pre.append(precision)\n",
        "models_rec.append(recall)\n",
        "models_fscore.append(fscore)\n",
        "models_auc.append(auc)"
      ],
      "execution_count": 111,
      "outputs": [
        {
          "output_type": "stream",
          "text": [
            "GaussianNB(priors=None, var_smoothing=1e-09)\n"
          ],
          "name": "stdout"
        }
      ]
    },
    {
      "cell_type": "code",
      "metadata": {
        "colab": {
          "base_uri": "https://localhost:8080/"
        },
        "id": "B-dyhBiwANmE",
        "outputId": "52659193-ceeb-4a23-d37a-788216b4b7d7"
      },
      "source": [
        "#training SVC Model and storing the metric in their respective lists\n",
        "accuracy, precision, recall, fscore, auc = model_LR(X_Train, Y_Train, X_Test, Y_Test)\n",
        "models_acc.append(accuracy)\n",
        "models_pre.append(precision)\n",
        "models_rec.append(recall)\n",
        "models_fscore.append(fscore)\n",
        "models_auc.append(auc)"
      ],
      "execution_count": 112,
      "outputs": [
        {
          "output_type": "stream",
          "text": [
            "LogisticRegression(C=1.0, class_weight=None, dual=False, fit_intercept=True,\n",
            "                   intercept_scaling=1, l1_ratio=None, max_iter=100,\n",
            "                   multi_class='auto', n_jobs=None, penalty='l2',\n",
            "                   random_state=None, solver='lbfgs', tol=0.0001, verbose=0,\n",
            "                   warm_start=False)\n"
          ],
          "name": "stdout"
        }
      ]
    },
    {
      "cell_type": "code",
      "metadata": {
        "colab": {
          "base_uri": "https://localhost:8080/",
          "height": 173
        },
        "id": "bIG0mFUZAp1u",
        "outputId": "5bcde61f-ea7d-4953-fa24-0d36cc37fe91"
      },
      "source": [
        "#saving the results for all the four models in a data frame and further into a csv file\n",
        "results  = pd.DataFrame(data = None, columns=['Model', 'Accuracy', 'Precision', 'Recall', 'F1-Score', 'AUC'])\n",
        "results['Model'] = ['SupportVectorClassifier', \"RandomForestClassifier\", \"NaiveBayes\", \"LogisticRegression\"]\n",
        "results['Accuracy'] = models_acc\n",
        "results['Precision'] = models_pre\n",
        "results['Recall'] = models_rec\n",
        "results['F1-Score'] = models_fscore\n",
        "results['AUC'] = models_auc\n",
        "results.to_csv(\"ModelResults_Classification.csv\")\n",
        "results.head()"
      ],
      "execution_count": 114,
      "outputs": [
        {
          "output_type": "execute_result",
          "data": {
            "text/html": [
              "<div>\n",
              "<style scoped>\n",
              "    .dataframe tbody tr th:only-of-type {\n",
              "        vertical-align: middle;\n",
              "    }\n",
              "\n",
              "    .dataframe tbody tr th {\n",
              "        vertical-align: top;\n",
              "    }\n",
              "\n",
              "    .dataframe thead th {\n",
              "        text-align: right;\n",
              "    }\n",
              "</style>\n",
              "<table border=\"1\" class=\"dataframe\">\n",
              "  <thead>\n",
              "    <tr style=\"text-align: right;\">\n",
              "      <th></th>\n",
              "      <th>Model</th>\n",
              "      <th>Accuracy</th>\n",
              "      <th>Precision</th>\n",
              "      <th>Recall</th>\n",
              "      <th>F1-Score</th>\n",
              "      <th>AUC</th>\n",
              "    </tr>\n",
              "  </thead>\n",
              "  <tbody>\n",
              "    <tr>\n",
              "      <th>0</th>\n",
              "      <td>SupportVectorClassifier</td>\n",
              "      <td>81.00</td>\n",
              "      <td>0.759333</td>\n",
              "      <td>0.773333</td>\n",
              "      <td>0.760409</td>\n",
              "      <td>0.675265</td>\n",
              "    </tr>\n",
              "    <tr>\n",
              "      <th>1</th>\n",
              "      <td>RandomForestClassifier</td>\n",
              "      <td>72.00</td>\n",
              "      <td>0.518400</td>\n",
              "      <td>0.720000</td>\n",
              "      <td>0.602791</td>\n",
              "      <td>0.500000</td>\n",
              "    </tr>\n",
              "    <tr>\n",
              "      <th>2</th>\n",
              "      <td>NaiveBayes</td>\n",
              "      <td>70.00</td>\n",
              "      <td>0.693702</td>\n",
              "      <td>0.436667</td>\n",
              "      <td>0.422830</td>\n",
              "      <td>0.697696</td>\n",
              "    </tr>\n",
              "    <tr>\n",
              "      <th>3</th>\n",
              "      <td>LogisticRegression</td>\n",
              "      <td>81.67</td>\n",
              "      <td>0.759053</td>\n",
              "      <td>0.766667</td>\n",
              "      <td>0.761922</td>\n",
              "      <td>0.772707</td>\n",
              "    </tr>\n",
              "  </tbody>\n",
              "</table>\n",
              "</div>"
            ],
            "text/plain": [
              "                     Model  Accuracy  Precision    Recall  F1-Score       AUC\n",
              "0  SupportVectorClassifier     81.00   0.759333  0.773333  0.760409  0.675265\n",
              "1   RandomForestClassifier     72.00   0.518400  0.720000  0.602791  0.500000\n",
              "2               NaiveBayes     70.00   0.693702  0.436667  0.422830  0.697696\n",
              "3       LogisticRegression     81.67   0.759053  0.766667  0.761922  0.772707"
            ]
          },
          "metadata": {
            "tags": []
          },
          "execution_count": 114
        }
      ]
    },
    {
      "cell_type": "markdown",
      "metadata": {
        "id": "O_AEFE01B4WC"
      },
      "source": [
        "Question 02: Clustering\n",
        "\n",
        "Cluster the data with any method without giving the number of classes. Now compare the clusters with the classes. Find the homogeneity, completeness and v-score metrics."
      ]
    },
    {
      "cell_type": "code",
      "metadata": {
        "id": "4WFDtmz0BTSg"
      },
      "source": [
        "#loading all the necessary python library\n",
        "import matplotlib.pyplot as plt\n",
        "import numpy\n",
        "import sklearn.cluster\n",
        "from matplotlib import pyplot\n",
        "from numpy import where, unique\n",
        "from sklearn.cluster import AgglomerativeClustering\n",
        "from sklearn import metrics\n",
        "from sklearn.cluster import Birch\n",
        "from sklearn.cluster import DBSCAN\n",
        "from sklearn.cluster import KMeans"
      ],
      "execution_count": 124,
      "outputs": []
    },
    {
      "cell_type": "code",
      "metadata": {
        "id": "nSvqBsCKCGDE"
      },
      "source": [
        "#This code snippet has been taken from the course's github repository. [1]\n",
        "#This function is to predict the clusters, visualize the clusters and \n",
        "#obtain silhouette_score for the cluster.\n",
        "#The higher the silhouette score, the better the cluster\n",
        "def cluster_predict_show(model, X, y):\n",
        "    \n",
        "    # Fit the model\n",
        "    m = model.fit(X)\n",
        "    \n",
        "    # assign a cluster to each example\n",
        "    try:\n",
        "      yhat = model.predict(X)\n",
        "    except AttributeError:\n",
        "      yhat = model.fit(X).labels_\n",
        "    # Silhoutte score - higher is a better cluster\n",
        "    print (\"Cluster score = \", metrics.silhouette_score(X, m.labels_, metric='euclidean'))\n",
        "\n",
        "    # retrieve unique clusters\n",
        "    clusters = unique(yhat)\n",
        "\n",
        "    # create scatter plot for samples from each cluster\n",
        "    for cluster in clusters:\n",
        "\n",
        "        # get row indexes for samples with this cluster\n",
        "        row_ix = where(yhat == cluster)\n",
        "\n",
        "        # create scatter of these samples\n",
        "        pyplot.scatter(X[row_ix, 0], X[row_ix, 1])\n",
        "\n",
        "# show the plot\n",
        "pyplot.show()"
      ],
      "execution_count": 167,
      "outputs": []
    },
    {
      "cell_type": "code",
      "metadata": {
        "id": "RdNAgKg6HJKD"
      },
      "source": [
        "#initializing lists to save the cluster metrics\n",
        "cluster_homoge = list()\n",
        "cluster_complete = list()\n",
        "cluster_vm = list()"
      ],
      "execution_count": 175,
      "outputs": []
    },
    {
      "cell_type": "code",
      "metadata": {
        "colab": {
          "base_uri": "https://localhost:8080/",
          "height": 282
        },
        "id": "3SyXp2b8D0j6",
        "outputId": "acd37d0b-66c8-4f53-a24b-08c2ab908cf7"
      },
      "source": [
        "#clustering using agglomerative clustering method without giving the number of clusters\n",
        "#visualizing the clusters\n",
        "#printing the silhouette score of the cluster\n",
        "#storing cluster metric into their respective lists\n",
        "model = AgglomerativeClustering(n_clusters=None, distance_threshold=3.0)\n",
        "agg_clustering = model.fit(X,Y)\n",
        "Y_Pred = agg_clustering.labels_\n",
        "cluster_fitpredict_show(model, X, Y)\n",
        "cluster_homoge.append(metrics.homogeneity_completeness_v_measure(Y, Y_Pred)[0])\n",
        "cluster_complete.append(metrics.homogeneity_completeness_v_measure(Y, Y_Pred)[1])\n",
        "cluster_vm.append(metrics.homogeneity_completeness_v_measure(Y, Y_Pred)[2])"
      ],
      "execution_count": 176,
      "outputs": [
        {
          "output_type": "stream",
          "text": [
            "Cluster score =  0.11999738365741017\n"
          ],
          "name": "stdout"
        },
        {
          "output_type": "display_data",
          "data": {
            "image/png": "[encoded data removed]",
            "text/plain": [
              "<Figure size 432x288 with 1 Axes>"
            ]
          },
          "metadata": {
            "tags": [],
            "needs_background": "light"
          }
        }
      ]
    },
    {
      "cell_type": "code",
      "metadata": {
        "colab": {
          "base_uri": "https://localhost:8080/",
          "height": 299
        },
        "id": "1YypZNgeECN3",
        "outputId": "58621ead-a5aa-408d-f8d3-edb8d682d835"
      },
      "source": [
        "#clustering using Birch method without giving the number of clusters\n",
        "#visualizing the clusters\n",
        "#printing the silhouette score of the cluster\n",
        "#storing cluster metric into their respective lists\n",
        "model = Birch(n_clusters=None)\n",
        "cluster_predict_show(model, X, Y)\n",
        "birch = model.fit(X,Y)\n",
        "Y_Pred = birch.labels_\n",
        "cluster_fitpredict_show(model, X, Y)\n",
        "cluster_homoge.append(metrics.homogeneity_completeness_v_measure(Y, Y_Pred)[0])\n",
        "cluster_complete.append(metrics.homogeneity_completeness_v_measure(Y, Y_Pred)[1])\n",
        "cluster_vm.append(metrics.homogeneity_completeness_v_measure(Y, Y_Pred)[2])"
      ],
      "execution_count": 177,
      "outputs": [
        {
          "output_type": "stream",
          "text": [
            "Cluster score =  0.020790654598064767\n",
            "Cluster score =  0.020790654598064767\n"
          ],
          "name": "stdout"
        },
        {
          "output_type": "display_data",
          "data": {
            "image/png": "[encoded data removed]",
            "text/plain": [
              "<Figure size 432x288 with 1 Axes>"
            ]
          },
          "metadata": {
            "tags": [],
            "needs_background": "light"
          }
        }
      ]
    },
    {
      "cell_type": "code",
      "metadata": {
        "colab": {
          "base_uri": "https://localhost:8080/",
          "height": 299
        },
        "id": "G3_1rCqmGlSe",
        "outputId": "8362e7a6-4350-4432-de7c-900baaf93479"
      },
      "source": [
        "#clustering using DBSCAN method without giving the number of clusters\n",
        "#visualizing the clusters\n",
        "#printing the silhouette score of the cluster\n",
        "#storing cluster metric into their respective lists\n",
        "model = DBSCAN(eps=3, min_samples=4)\n",
        "cluster_predict_show(model, X, Y)\n",
        "dbscan  = model.fit(X,Y)\n",
        "Y_Pred = dbscan.labels_\n",
        "cluster_fitpredict_show(model, X, Y)\n",
        "cluster_homoge.append(metrics.homogeneity_completeness_v_measure(Y, Y_Pred)[0])\n",
        "cluster_complete.append(metrics.homogeneity_completeness_v_measure(Y, Y_Pred)[1])\n",
        "cluster_vm.append(metrics.homogeneity_completeness_v_measure(Y, Y_Pred)[2])"
      ],
      "execution_count": 178,
      "outputs": [
        {
          "output_type": "stream",
          "text": [
            "Cluster score =  0.11339901082083378\n",
            "Cluster score =  0.11339901082083378\n"
          ],
          "name": "stdout"
        },
        {
          "output_type": "display_data",
          "data": {
            "image/png": "[encoded data removed]",
            "text/plain": [
              "<Figure size 432x288 with 1 Axes>"
            ]
          },
          "metadata": {
            "tags": [],
            "needs_background": "light"
          }
        }
      ]
    },
    {
      "cell_type": "code",
      "metadata": {
        "colab": {
          "base_uri": "https://localhost:8080/",
          "height": 282
        },
        "id": "SlS84rvuIqfo",
        "outputId": "c1dcde4e-b3ca-46de-c08b-6fbb79f31f59"
      },
      "source": [
        "#clustering using KMeans method without giving the number of clusters\n",
        "#visualizing the clusters\n",
        "#printing the silhouette score of the cluster\n",
        "#storing cluster metric into their respective lists\n",
        "model = KMeans()\n",
        "cluster_predict_show(model, X, Y)\n",
        "kmeans = model.fit(X,Y)\n",
        "Y_Pred = kmeans.labels_\n",
        "cluster_homoge.append(metrics.homogeneity_completeness_v_measure(Y, Y_Pred)[0])\n",
        "cluster_complete.append(metrics.homogeneity_completeness_v_measure(Y, Y_Pred)[1])\n",
        "cluster_vm.append(metrics.homogeneity_completeness_v_measure(Y, Y_Pred)[2])"
      ],
      "execution_count": 179,
      "outputs": [
        {
          "output_type": "stream",
          "text": [
            "Cluster score =  0.05282911444596904\n"
          ],
          "name": "stdout"
        },
        {
          "output_type": "display_data",
          "data": {
            "image/png": "[encoded data removed]",
            "text/plain": [
              "<Figure size 432x288 with 1 Axes>"
            ]
          },
          "metadata": {
            "tags": [],
            "needs_background": "light"
          }
        }
      ]
    },
    {
      "cell_type": "code",
      "metadata": {
        "colab": {
          "base_uri": "https://localhost:8080/",
          "height": 173
        },
        "id": "clMEfvOKJge2",
        "outputId": "19349294-553a-44e5-d4fe-fd28a1ef99c3"
      },
      "source": [
        "#saving the results for all the four clustering algorithms in a data frame \n",
        "#and further into a csv file\n",
        "results  = pd.DataFrame(data = None, columns=['Model', 'Homogeneity', 'Completeness', 'V_Measure'])\n",
        "results['Model'] = ['AgglomerativeClustering',  'Birch', 'DBSCAN', 'KMeans']\n",
        "results['Homogeneity'] = cluster_homoge\n",
        "results['Completeness'] = cluster_complete\n",
        "results['V_Measure'] = cluster_vm\n",
        "results.to_csv(\"ModelResults_Clustering.csv\")\n",
        "results.head()"
      ],
      "execution_count": 180,
      "outputs": [
        {
          "output_type": "execute_result",
          "data": {
            "text/html": [
              "<div>\n",
              "<style scoped>\n",
              "    .dataframe tbody tr th:only-of-type {\n",
              "        vertical-align: middle;\n",
              "    }\n",
              "\n",
              "    .dataframe tbody tr th {\n",
              "        vertical-align: top;\n",
              "    }\n",
              "\n",
              "    .dataframe thead th {\n",
              "        text-align: right;\n",
              "    }\n",
              "</style>\n",
              "<table border=\"1\" class=\"dataframe\">\n",
              "  <thead>\n",
              "    <tr style=\"text-align: right;\">\n",
              "      <th></th>\n",
              "      <th>Model</th>\n",
              "      <th>Homogeneity</th>\n",
              "      <th>Completeness</th>\n",
              "      <th>V_Measure</th>\n",
              "    </tr>\n",
              "  </thead>\n",
              "  <tbody>\n",
              "    <tr>\n",
              "      <th>0</th>\n",
              "      <td>AgglomerativeClustering</td>\n",
              "      <td>0.549944</td>\n",
              "      <td>0.057128</td>\n",
              "      <td>0.103504</td>\n",
              "    </tr>\n",
              "    <tr>\n",
              "      <th>1</th>\n",
              "      <td>Birch</td>\n",
              "      <td>0.995461</td>\n",
              "      <td>0.088303</td>\n",
              "      <td>0.162216</td>\n",
              "    </tr>\n",
              "    <tr>\n",
              "      <th>2</th>\n",
              "      <td>DBSCAN</td>\n",
              "      <td>0.002819</td>\n",
              "      <td>0.046943</td>\n",
              "      <td>0.005318</td>\n",
              "    </tr>\n",
              "    <tr>\n",
              "      <th>3</th>\n",
              "      <td>KMeans</td>\n",
              "      <td>0.026109</td>\n",
              "      <td>0.007742</td>\n",
              "      <td>0.011942</td>\n",
              "    </tr>\n",
              "  </tbody>\n",
              "</table>\n",
              "</div>"
            ],
            "text/plain": [
              "                     Model  Homogeneity  Completeness  V_Measure\n",
              "0  AgglomerativeClustering     0.549944      0.057128   0.103504\n",
              "1                    Birch     0.995461      0.088303   0.162216\n",
              "2                   DBSCAN     0.002819      0.046943   0.005318\n",
              "3                   KMeans     0.026109      0.007742   0.011942"
            ]
          },
          "metadata": {
            "tags": []
          },
          "execution_count": 180
        }
      ]
    },
    {
      "cell_type": "markdown",
      "metadata": {
        "id": "KcCrPU9LKX2i"
      },
      "source": [
        "Question: 03 Bonus\n",
        "\n",
        "The dataset has attributes for age and personal_status. What is the distribution of class with respect to these attributes? Is there a age or personal_status group that can perceive bias? Feel free to pre-process data to gain insights – e.g., binning for age."
      ]
    },
    {
      "cell_type": "code",
      "metadata": {
        "colab": {
          "base_uri": "https://localhost:8080/",
          "height": 425
        },
        "id": "ik1uAgkNKDhH",
        "outputId": "ced3ca00-63ec-48ba-8fb5-1b6a4b0314d3"
      },
      "source": [
        "#from the give distribution of personal_status category for good and bad credit classes\n",
        "#we can see that for the good credit class, there is a bias for \"male single\" category\n",
        "#hence the \"male single\" group of personal_status perceive bias\n",
        "df['personal_status'].hist(by =df['class'])"
      ],
      "execution_count": 182,
      "outputs": [
        {
          "output_type": "execute_result",
          "data": {
            "text/plain": [
              "array([<matplotlib.axes._subplots.AxesSubplot object at 0x7f8f094847f0>,\n",
              "       <matplotlib.axes._subplots.AxesSubplot object at 0x7f8f08c0d898>],\n",
              "      dtype=object)"
            ]
          },
          "metadata": {
            "tags": []
          },
          "execution_count": 182
        },
        {
          "output_type": "display_data",
          "data": {
            "image/png": "[encoded data removed]",
            "text/plain": [
              "<Figure size 432x288 with 2 Axes>"
            ]
          },
          "metadata": {
            "tags": [],
            "needs_background": "light"
          }
        }
      ]
    },
    {
      "cell_type": "code",
      "metadata": {
        "colab": {
          "base_uri": "https://localhost:8080/",
          "height": 380
        },
        "id": "dPUH25uNckdM",
        "outputId": "8ef77e20-42cf-475f-8142-8aa550ba2ffb"
      },
      "source": [
        "#similar takeaway can be obtained from the histograms obtained below\n",
        "df['class'].hist(by =df['personal_status'])"
      ],
      "execution_count": 193,
      "outputs": [
        {
          "output_type": "execute_result",
          "data": {
            "text/plain": [
              "array([[<matplotlib.axes._subplots.AxesSubplot object at 0x7f8f07233400>,\n",
              "        <matplotlib.axes._subplots.AxesSubplot object at 0x7f8f07374f28>],\n",
              "       [<matplotlib.axes._subplots.AxesSubplot object at 0x7f8f09338390>,\n",
              "        <matplotlib.axes._subplots.AxesSubplot object at 0x7f8f0a0f0cf8>]],\n",
              "      dtype=object)"
            ]
          },
          "metadata": {
            "tags": []
          },
          "execution_count": 193
        },
        {
          "output_type": "display_data",
          "data": {
            "image/png": "[encoded data removed]",
            "text/plain": [
              "<Figure size 432x288 with 4 Axes>"
            ]
          },
          "metadata": {
            "tags": [],
            "needs_background": "light"
          }
        }
      ]
    },
    {
      "cell_type": "code",
      "metadata": {
        "id": "SwLTgUqoKxjl"
      },
      "source": [
        "#binning the continuous age data into four bins\n",
        "df['quartiles_age'] = pd.qcut(df['age'], q=4)"
      ],
      "execution_count": 189,
      "outputs": []
    },
    {
      "cell_type": "code",
      "metadata": {
        "colab": {
          "base_uri": "https://localhost:8080/"
        },
        "id": "nhEG-umHL9Ry",
        "outputId": "a0ff2b9c-c5cb-4f04-dbdd-43b499231dcd"
      },
      "source": [
        "#obtaining the list of unique bins\n",
        "#bins are:\n",
        "#(18.99, 27.0]\n",
        "#(27.0, 33.0]\n",
        "#(33.0, 42.0]\n",
        "#(42.0, 75.0]\n",
        "df.quartiles_age.unique"
      ],
      "execution_count": 190,
      "outputs": [
        {
          "output_type": "execute_result",
          "data": {
            "text/plain": [
              "<bound method Series.unique of 0        (42.0, 75.0]\n",
              "1      (18.999, 27.0]\n",
              "2        (42.0, 75.0]\n",
              "3        (42.0, 75.0]\n",
              "4        (42.0, 75.0]\n",
              "            ...      \n",
              "995      (27.0, 33.0]\n",
              "996      (33.0, 42.0]\n",
              "997      (33.0, 42.0]\n",
              "998    (18.999, 27.0]\n",
              "999    (18.999, 27.0]\n",
              "Name: quartiles_age, Length: 1000, dtype: category\n",
              "Categories (4, interval[float64]): [(18.999, 27.0] < (27.0, 33.0] < (33.0, 42.0] < (42.0, 75.0]]>"
            ]
          },
          "metadata": {
            "tags": []
          },
          "execution_count": 190
        }
      ]
    },
    {
      "cell_type": "code",
      "metadata": {
        "id": "ZbKrpBb8LCPs"
      },
      "source": [
        "#encoding the age bins category data column using numerical codes\n",
        "df['quartiles_age'] =df['quartiles_age'].astype('category')\n",
        "df['quartiles_age'] = df['quartiles_age'].cat.codes"
      ],
      "execution_count": 191,
      "outputs": []
    },
    {
      "cell_type": "code",
      "metadata": {
        "colab": {
          "base_uri": "https://localhost:8080/",
          "height": 327
        },
        "id": "N0qlHRX1L1eb",
        "outputId": "3c3d82fb-037e-4381-dcf0-841df5a4b025"
      },
      "source": [
        "#from the histogram we can see that the bins have a \n",
        "#slight bias towards the good credit class\n",
        "#0:(18.99, 27.0]\n",
        "#1:(27.0, 33.0]\n",
        "#2:(33.0, 42.0]\n",
        "#3:(42.0, 75.0]\n",
        "df['quartiles_age'].hist(by =df['class'])"
      ],
      "execution_count": 192,
      "outputs": [
        {
          "output_type": "execute_result",
          "data": {
            "text/plain": [
              "array([<matplotlib.axes._subplots.AxesSubplot object at 0x7f8f0722af28>,\n",
              "       <matplotlib.axes._subplots.AxesSubplot object at 0x7f8f070f3748>],\n",
              "      dtype=object)"
            ]
          },
          "metadata": {
            "tags": []
          },
          "execution_count": 192
        },
        {
          "output_type": "display_data",
          "data": {
            "image/png": "[encoded data removed]",
            "text/plain": [
              "<Figure size 432x288 with 2 Axes>"
            ]
          },
          "metadata": {
            "tags": [],
            "needs_background": "light"
          }
        }
      ]
    },
    {
      "cell_type": "code",
      "metadata": {
        "colab": {
          "base_uri": "https://localhost:8080/",
          "height": 380
        },
        "id": "OCidYhvTMaYR",
        "outputId": "2ccc59e0-3258-4f1c-d395-2aab43c743a1"
      },
      "source": [
        "#similary takeaway can be obtained from the histogram obtained below\n",
        "df['class'].hist(by =df['quartiles_age'])"
      ],
      "execution_count": 194,
      "outputs": [
        {
          "output_type": "execute_result",
          "data": {
            "text/plain": [
              "array([[<matplotlib.axes._subplots.AxesSubplot object at 0x7f8f093e07f0>,\n",
              "        <matplotlib.axes._subplots.AxesSubplot object at 0x7f8f4b1929e8>],\n",
              "       [<matplotlib.axes._subplots.AxesSubplot object at 0x7f8f0a7a1b70>,\n",
              "        <matplotlib.axes._subplots.AxesSubplot object at 0x7f8f08e011d0>]],\n",
              "      dtype=object)"
            ]
          },
          "metadata": {
            "tags": []
          },
          "execution_count": 194
        },
        {
          "output_type": "display_data",
          "data": {
            "image/png": "[encoded data removed]",
            "text/plain": [
              "<Figure size 432x288 with 4 Axes>"
            ]
          },
          "metadata": {
            "tags": [],
            "needs_background": "light"
          }
        }
      ]
    },
    {
      "cell_type": "markdown",
      "metadata": {
        "id": "HDVAbgFHeAUR"
      },
      "source": [
        "References: #Some of the links which have been referred to or taken code snippets while completing this quiz\n",
        "\n",
        "[1] https://github.com/biplav-s/course-d2d-ai\n",
        "\n",
        "[2] https://stackoverflow.com/questions/\n",
        "\n",
        "[3] https://scikit-learn.org/stable/\n",
        "\n",
        "[4] https://pandas.pydata.org"
      ]
    }
  ]
}